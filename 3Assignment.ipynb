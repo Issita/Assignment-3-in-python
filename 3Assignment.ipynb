{
 "cells": [
  {
   "cell_type": "code",
   "execution_count": 21,
   "id": "2a169790-f4c2-4b66-b34b-e94d96a862fa",
   "metadata": {},
   "outputs": [],
   "source": [
    "#Which keyword is used to create a function? Create a function to return a list of odd numbers in the\n",
    "#range of 1 to 25."
   ]
  },
  {
   "cell_type": "code",
   "execution_count": 22,
   "id": "4df661a7-1749-4e7e-b3a5-01aa9cadd0fa",
   "metadata": {},
   "outputs": [
    {
     "data": {
      "text/plain": [
       "'def keyword is used to creat a function'"
      ]
     },
     "execution_count": 22,
     "metadata": {},
     "output_type": "execute_result"
    }
   ],
   "source": [
    "\"\"\"def keyword is used to creat a function\"\"\""
   ]
  },
  {
   "cell_type": "code",
   "execution_count": 23,
   "id": "4ba7451c-0593-4824-82e4-f6b699380a02",
   "metadata": {},
   "outputs": [],
   "source": [
    "def odd_number():\n",
    "    odd_num = []\n",
    "    for i in range (1,26):\n",
    "        if i%2 != 0:\n",
    "            odd_num.append(i)\n",
    "    return odd_num"
   ]
  },
  {
   "cell_type": "code",
   "execution_count": 24,
   "id": "9109085f-1512-4b7b-87ea-13d395bc6bfd",
   "metadata": {},
   "outputs": [
    {
     "data": {
      "text/plain": [
       "[1, 3, 5, 7, 9, 11, 13, 15, 17, 19, 21, 23, 25]"
      ]
     },
     "execution_count": 24,
     "metadata": {},
     "output_type": "execute_result"
    }
   ],
   "source": [
    "odd_number()"
   ]
  },
  {
   "cell_type": "code",
   "execution_count": 25,
   "id": "e2ccdce9-416f-4da5-a4b3-8880dbfd4a62",
   "metadata": {},
   "outputs": [],
   "source": [
    "\n",
    "#Why *args and **kwargs is used in some functions? Create a function each for *args and **kwargs\n",
    "#to demonstrate their use."
   ]
  },
  {
   "cell_type": "code",
   "execution_count": 26,
   "id": "6241ec5f-1594-4240-bde1-2b9433f8c52c",
   "metadata": {},
   "outputs": [],
   "source": [
    "def print_new(*args):\n",
    "    for i in args:\n",
    "        return args"
   ]
  },
  {
   "cell_type": "code",
   "execution_count": 27,
   "id": "32f958d2-57f6-4fc1-b92a-d387577bb4bc",
   "metadata": {},
   "outputs": [
    {
     "data": {
      "text/plain": [
       "('my world', 45, 672.23, True)"
      ]
     },
     "execution_count": 27,
     "metadata": {},
     "output_type": "execute_result"
    }
   ],
   "source": [
    "print_new(\"my world\", 45, 672.23, True)"
   ]
  },
  {
   "cell_type": "code",
   "execution_count": 28,
   "id": "87aae887-a031-431e-b9cd-427d019f78d4",
   "metadata": {},
   "outputs": [
    {
     "data": {
      "text/plain": [
       "'This function takes any number of arguments and prints them out'"
      ]
     },
     "execution_count": 28,
     "metadata": {},
     "output_type": "execute_result"
    }
   ],
   "source": [
    "\"\"\"This function takes any number of arguments and prints them out\"\"\""
   ]
  },
  {
   "cell_type": "code",
   "execution_count": 29,
   "id": "a9a46abb-847a-496c-b011-cebd8b30f384",
   "metadata": {},
   "outputs": [],
   "source": [
    "def print_fun(**kwargs):\n",
    "    return kwargs "
   ]
  },
  {
   "cell_type": "code",
   "execution_count": 30,
   "id": "312a0276-665f-45e3-b12d-ea9a3c78522a",
   "metadata": {},
   "outputs": [
    {
     "data": {
      "text/plain": [
       "{'name': 'Ishu', 'age': 20, 'city': 'India'}"
      ]
     },
     "execution_count": 30,
     "metadata": {},
     "output_type": "execute_result"
    }
   ],
   "source": [
    "print_fun(name=\"Ishu\", age=20, city=\"India\")"
   ]
  },
  {
   "cell_type": "code",
   "execution_count": 31,
   "id": "8c3e84aa-3c2a-4b1b-a20a-d15af9146fcc",
   "metadata": {},
   "outputs": [
    {
     "data": {
      "text/plain": [
       "'This function takes any number of keyword arguments and prints them out.'"
      ]
     },
     "execution_count": 31,
     "metadata": {},
     "output_type": "execute_result"
    }
   ],
   "source": [
    "'''This function takes any number of keyword arguments and prints them out.'''"
   ]
  },
  {
   "cell_type": "code",
   "execution_count": 32,
   "id": "666c72ea-61c8-414c-aa90-98636a484d56",
   "metadata": {},
   "outputs": [],
   "source": [
    "#What is an iterator in python? Name the method used to initialise the iterator object and the method\n",
    "#used for iteration. Use these methods to print the first five elements of the given list [2, 4, 6, 8, 10, 12, 14,\n",
    "#16, 18, 20]."
   ]
  },
  {
   "cell_type": "code",
   "execution_count": 33,
   "id": "a649ee81-d0aa-4594-a019-bf5100750605",
   "metadata": {},
   "outputs": [
    {
     "data": {
      "text/plain": [
       "'Iterator is an object that allows us to traverse in a sequence. \\nThe method is used to initialize an iterator object called the iter() function, it takes the argumrnt in a sequence and return the object\\nThe method used for iteration is called the next() method, it return the next element of the sequence'"
      ]
     },
     "execution_count": 33,
     "metadata": {},
     "output_type": "execute_result"
    }
   ],
   "source": [
    "\"\"\"Iterator is an object that allows us to traverse in a sequence. \n",
    "The method is used to initialize an iterator object called the iter() function, it takes the argumrnt in a sequence and return the object\n",
    "The method used for iteration is called the next() method, it return the next element of the sequence\"\"\""
   ]
  },
  {
   "cell_type": "code",
   "execution_count": 34,
   "id": "62a45cec-d6ee-46da-a152-46bc24908284",
   "metadata": {},
   "outputs": [
    {
     "name": "stdout",
     "output_type": "stream",
     "text": [
      "2\n",
      "4\n",
      "6\n",
      "8\n",
      "10\n"
     ]
    }
   ],
   "source": [
    "list =[2, 4, 6, 8, 10, 12, 14,16, 18, 20]\n",
    "iterator = iter(list)\n",
    "for i in range(5):\n",
    "    print (next(iterator))"
   ]
  },
  {
   "cell_type": "code",
   "execution_count": 35,
   "id": "cc12c1e1-e423-48af-a448-ec23eacbe02d",
   "metadata": {},
   "outputs": [],
   "source": [
    "#What is a generator function in python? Why yield keyword is used? Give an example of a generator\n",
    "#function."
   ]
  },
  {
   "cell_type": "code",
   "execution_count": 36,
   "id": "9701800c-ef43-4d28-b79c-2850d18d3048",
   "metadata": {},
   "outputs": [
    {
     "data": {
      "text/plain": [
       "'Generator function is a special type of fuction that allows us to generate our outcome and holdeing everything in a memory\\nyield keyword is control the flow of a generator function and it throw the data '"
      ]
     },
     "execution_count": 36,
     "metadata": {},
     "output_type": "execute_result"
    }
   ],
   "source": [
    "\"\"\"Generator function is a special type of fuction that allows us to generate our outcome and holdeing everything in a memory\n",
    "yield keyword is control the flow of a generator function and it throw the data \"\"\""
   ]
  },
  {
   "cell_type": "code",
   "execution_count": 37,
   "id": "56f7b065-308b-4fd0-8dd0-35920d2e9098",
   "metadata": {},
   "outputs": [
    {
     "name": "stdout",
     "output_type": "stream",
     "text": [
      "0\n",
      "1\n",
      "1\n",
      "2\n",
      "3\n",
      "5\n",
      "8\n",
      "13\n",
      "21\n",
      "34\n"
     ]
    }
   ],
   "source": [
    "def fibonacci_num():\n",
    "    a,b = 0,1\n",
    "    while True:\n",
    "        yield a\n",
    "        a,b = b,a+b\n",
    "        \n",
    "fib = fibonacci_num()\n",
    "for i in range (10):\n",
    "    print(next(fib))"
   ]
  },
  {
   "cell_type": "code",
   "execution_count": 38,
   "id": "afdb6954-f09e-4596-a317-0c2adab481f3",
   "metadata": {},
   "outputs": [],
   "source": [
    "#Create a generator function for prime numbers less than 1000. Use the next() method to print the\n",
    "#first 20 prime numbers."
   ]
  },
  {
   "cell_type": "code",
   "execution_count": 39,
   "id": "4b4947e6-0b49-4895-a3bb-6fe4893dc832",
   "metadata": {},
   "outputs": [
    {
     "name": "stdout",
     "output_type": "stream",
     "text": [
      "2\n",
      "3\n",
      "5\n",
      "7\n",
      "11\n",
      "13\n",
      "17\n",
      "19\n",
      "23\n",
      "29\n",
      "31\n",
      "37\n",
      "41\n",
      "43\n",
      "47\n",
      "53\n",
      "59\n",
      "61\n",
      "67\n",
      "71\n"
     ]
    }
   ],
   "source": [
    "def prime_number():\n",
    "    \"\"\"This generator function generates the first 20 prime numbers in the range 1000\"\"\"\n",
    "    primes = []\n",
    "    for num in range (2,1000):\n",
    "        for prime in primes:\n",
    "            if num % prime == 0:\n",
    "                break\n",
    "        else:\n",
    "            primes.append(num)\n",
    "            yield num\n",
    "          \n",
    " #print the first 20 prime numbers\n",
    "prime = prime_number()\n",
    "for i in range (1,21):\n",
    "    print(next(prime))\n",
    "        \n",
    "        "
   ]
  },
  {
   "cell_type": "code",
   "execution_count": 1,
   "id": "aa261702-4cba-4110-817b-44f1e9a6c71b",
   "metadata": {},
   "outputs": [],
   "source": [
    "#write a python program to print the first 10 Fibonacci numbers using a while loop."
   ]
  },
  {
   "cell_type": "code",
   "execution_count": 2,
   "id": "e4392704-1906-484b-afb7-2f4d05c76d7c",
   "metadata": {},
   "outputs": [
    {
     "name": "stdout",
     "output_type": "stream",
     "text": [
      "0\n",
      "1\n",
      "1\n",
      "2\n",
      "3\n",
      "5\n",
      "8\n",
      "13\n",
      "21\n",
      "34\n"
     ]
    }
   ],
   "source": [
    "def fibonacci_num():\n",
    "    a,b = 0,1\n",
    "    while True:\n",
    "        yield a\n",
    "        a,b = b,a+b\n",
    "        \n",
    "fib = fibonacci_num()\n",
    "for i in range (10):\n",
    "    print(next(fib))"
   ]
  },
  {
   "cell_type": "code",
   "execution_count": 3,
   "id": "bae71902-d200-4b3f-8aa1-20d76b11ddb7",
   "metadata": {},
   "outputs": [],
   "source": [
    "#Write a List Comprehension to iterate through the given string: ‘pwskills’. Expected output: ['p', 'w', 's', 'k', 'i', 'l', 'l', 's']"
   ]
  },
  {
   "cell_type": "code",
   "execution_count": 5,
   "id": "c900f91f-93e3-447e-a5db-d7783205b78a",
   "metadata": {},
   "outputs": [
    {
     "data": {
      "text/plain": [
       "['p', 'w', 's', 'k', 'i', 'l', 'l', 's']"
      ]
     },
     "execution_count": 5,
     "metadata": {},
     "output_type": "execute_result"
    }
   ],
   "source": [
    "string = \"pwskills\"\n",
    "\n",
    "[i for i in string ]"
   ]
  },
  {
   "cell_type": "code",
   "execution_count": 6,
   "id": "55f8668c-0294-45c2-bf8f-d10e0c11c5f6",
   "metadata": {},
   "outputs": [],
   "source": [
    "#Write a python program to check whether a given number is Palindrome or not using a while loop."
   ]
  },
  {
   "cell_type": "code",
   "execution_count": 7,
   "id": "83579a83-870c-4a74-a2b9-ab02d8bd4cc0",
   "metadata": {},
   "outputs": [
    {
     "name": "stdin",
     "output_type": "stream",
     "text": [
      "Enter a number: 121\n"
     ]
    },
    {
     "name": "stdout",
     "output_type": "stream",
     "text": [
      "The number is palindrome\n"
     ]
    }
   ],
   "source": [
    "num = int(input(\"Enter a number:\"))\n",
    "temp = num\n",
    "rev = 0\n",
    "while num>0:\n",
    "    dig = num % 10\n",
    "    rev = rev * 10 + dig\n",
    "    num = num // 10\n",
    "    \n",
    "if (temp == rev):\n",
    "    print(\"The number is palindrome\")\n",
    "else:\n",
    "    print(\"The number is not palindrome\")"
   ]
  },
  {
   "cell_type": "code",
   "execution_count": 17,
   "id": "27a0f9ba-b358-4f96-bba0-2c360b898bdb",
   "metadata": {},
   "outputs": [],
   "source": [
    "#Write a code to print odd numbers from 1 to 100 using list comprehension.\n"
   ]
  },
  {
   "cell_type": "code",
   "execution_count": 21,
   "id": "8bf8e81b-4436-4354-8ab5-6950375e8103",
   "metadata": {},
   "outputs": [
    {
     "data": {
      "text/plain": [
       "[1,\n",
       " 3,\n",
       " 5,\n",
       " 7,\n",
       " 9,\n",
       " 11,\n",
       " 13,\n",
       " 15,\n",
       " 17,\n",
       " 19,\n",
       " 21,\n",
       " 23,\n",
       " 25,\n",
       " 27,\n",
       " 29,\n",
       " 31,\n",
       " 33,\n",
       " 35,\n",
       " 37,\n",
       " 39,\n",
       " 41,\n",
       " 43,\n",
       " 45,\n",
       " 47,\n",
       " 49,\n",
       " 51,\n",
       " 53,\n",
       " 55,\n",
       " 57,\n",
       " 59,\n",
       " 61,\n",
       " 63,\n",
       " 65,\n",
       " 67,\n",
       " 69,\n",
       " 71,\n",
       " 73,\n",
       " 75,\n",
       " 77,\n",
       " 79,\n",
       " 81,\n",
       " 83,\n",
       " 85,\n",
       " 87,\n",
       " 89,\n",
       " 91,\n",
       " 93,\n",
       " 95,\n",
       " 97,\n",
       " 99]"
      ]
     },
     "execution_count": 21,
     "metadata": {},
     "output_type": "execute_result"
    }
   ],
   "source": [
    "[i for i in range(1,101) if i%2 != 0]"
   ]
  },
  {
   "cell_type": "code",
   "execution_count": null,
   "id": "8c4332cd-b83d-48d9-b7a6-e74fd0cfd3df",
   "metadata": {},
   "outputs": [],
   "source": []
  }
 ],
 "metadata": {
  "kernelspec": {
   "display_name": "Python 3 (ipykernel)",
   "language": "python",
   "name": "python3"
  },
  "language_info": {
   "codemirror_mode": {
    "name": "ipython",
    "version": 3
   },
   "file_extension": ".py",
   "mimetype": "text/x-python",
   "name": "python",
   "nbconvert_exporter": "python",
   "pygments_lexer": "ipython3",
   "version": "3.10.8"
  }
 },
 "nbformat": 4,
 "nbformat_minor": 5
}
